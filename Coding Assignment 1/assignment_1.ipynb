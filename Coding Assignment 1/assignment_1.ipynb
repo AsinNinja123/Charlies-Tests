{
 "cells": [
  {
   "cell_type": "markdown",
   "id": "5dd2bb94",
   "metadata": {},
   "source": [
    "1: Import Data\n",
    "Using Pandas, import our Auto dataset"
   ]
  },
  {
   "cell_type": "code",
   "execution_count": null,
   "id": "22fd7c8c",
   "metadata": {},
   "outputs": [],
   "source": [
    "import pandas as pd\n",
    "import numpy as np\n",
    "import matplotlib.pyplot as plt\n",
    "\n",
    "Auto = pd.read_csv(\"Auto.csv\")"
   ]
  },
  {
   "cell_type": "markdown",
   "id": "56d23b38",
   "metadata": {},
   "source": [
    "2: Find the average value of `mpg`"
   ]
  },
  {
   "cell_type": "code",
   "execution_count": null,
   "id": "0d2e7433",
   "metadata": {},
   "outputs": [],
   "source": [
    "mean_mpg = Auto[\"mpg\"].mean()\n",
    "print(\"Average MPG:\", mean_mpg)"
   ]
  },
  {
   "cell_type": "markdown",
   "id": "fadf85f0",
   "metadata": {},
   "source": [
    "3: Find the MSE, using the average value  \n",
    "Use the average from step 2 as your prediction for each vehicle's `mpg`  \n",
    "Square the difference between the truth and that prediction and then average those  \n",
    "This is the Mean Squared Error (MSE)"
   ]
  },
  {
   "cell_type": "code",
   "execution_count": null,
   "id": "4930de5d",
   "metadata": {},
   "outputs": [],
   "source": [
    "mse_avg = ((Auto[\"mpg\"] - mean_mpg) ** 2).mean()\n",
    "print(\"MSE using average MPG:\", mse_avg)"
   ]
  },
  {
   "cell_type": "markdown",
   "id": "91d8d0a3",
   "metadata": {},
   "source": [
    "4: Find the MSE, using 100 intermediate values  \n",
    "Create an array of 100 evenly-spaced values from the least to the greatest `mpg`  \n",
    "Repeat step 3 for each of these values  \n",
    "That is, find the MSE using each of these values as your predictor  \n",
    "Your result should be an array of 100 MSEs"
   ]
  },
  {
   "cell_type": "code",
   "execution_count": null,
   "id": "956929db",
   "metadata": {},
   "outputs": [],
   "source": [
    "min_mpg = Auto[\"mpg\"].min()\n",
    "max_mpg = Auto[\"mpg\"].max()\n",
    "predictors = np.linspace(min_mpg, max_mpg, 100)\n",
    "\n",
    "mses = [((Auto[\"mpg\"] - p) ** 2).mean() for p in predictors]"
   ]
  },
  {
   "cell_type": "markdown",
   "id": "972e7abe",
   "metadata": {},
   "source": [
    "5: Plot the results  \n",
    "Plot your MSEs using matplotlib  \n",
    "The y-axis should represent MSE  \n",
    "The x-axis should represent the value used as your predictor"
   ]
  },
  {
   "cell_type": "code",
   "execution_count": null,
   "id": "1e5d0305",
   "metadata": {},
   "outputs": [
    {
     "ename": "",
     "evalue": "",
     "output_type": "error",
     "traceback": [
      "\u001b[1;31mRunning cells with 'base (Python 3.13.5)' requires the ipykernel package.\n",
      "\u001b[1;31m<a href='command:jupyter.createPythonEnvAndSelectController'>Create a Python Environment</a> with the required packages."
     ]
    }
   ],
   "source": [
    "plt.plot(predictors, mses)\n",
    "plt.xlabel(\"Predictor Value (MPG)\")\n",
    "plt.ylabel(\"Mean Squared Error (MSE)\")\n",
    "plt.title(\"MSE vs Predictor Value\")\n",
    "plt.show()"
   ]
  },
  {
   "cell_type": "markdown",
   "id": "ca784cc5",
   "metadata": {},
   "source": [
    "6: Analyze the results  \n",
    "Comment on the performance of these 101 models  \n",
    "What does the plot tell you about using a single value predictor?"
   ]
  },
  {
   "cell_type": "code",
   "execution_count": null,
   "id": "06f0dd2e",
   "metadata": {
    "vscode": {
     "languageId": "latex"
    }
   },
   "outputs": [],
   "source": [
    "Your answer here"
   ]
  }
 ],
 "metadata": {
  "kernelspec": {
   "display_name": "base",
   "language": "python",
   "name": "python3"
  },
  "language_info": {
   "codemirror_mode": {
    "name": "ipython",
    "version": 3
   },
   "file_extension": ".py",
   "mimetype": "text/x-python",
   "name": "python",
   "nbconvert_exporter": "python",
   "pygments_lexer": "ipython3",
   "version": "3.13.5"
  }
 },
 "nbformat": 4,
 "nbformat_minor": 5
}
